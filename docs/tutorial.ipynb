{
 "cells": [
  {
   "cell_type": "markdown",
   "metadata": {},
   "source": [
    "# Tutorial\n",
    "\n",
    "Before going through this tutorial, make sure you install the package. You can do so via pip.\n"
   ]
  },
  {
   "cell_type": "code",
   "execution_count": 1,
   "metadata": {},
   "outputs": [],
   "source": [
    "# uncomment this line to install the package\n",
    "# ! pip install python-simple-secrets-manager"
   ]
  },
  {
   "cell_type": "markdown",
   "metadata": {},
   "source": [
    "You can check that the package is installed with the following CLI command. Note that prepending an exclamation point to a command in jupyter executes the command in your shell.\n"
   ]
  },
  {
   "cell_type": "code",
   "execution_count": 2,
   "metadata": {},
   "outputs": [
    {
     "name": "stdout",
     "output_type": "stream",
     "text": [
      "python-simple-secrets-manager, version 0.1.1\n"
     ]
    }
   ],
   "source": [
    "! secrets --version"
   ]
  },
  {
   "cell_type": "markdown",
   "metadata": {},
   "source": [
    "By default the package will create a `secrets.toml` file in a `.secrets` directory in your home folder, which is where data is stored.\n"
   ]
  },
  {
   "cell_type": "code",
   "execution_count": 3,
   "metadata": {},
   "outputs": [],
   "source": [
    "# package import\n",
    "from pssm import secrets"
   ]
  },
  {
   "cell_type": "markdown",
   "metadata": {},
   "source": [
    "You can add a new secret via the CLI interactively by running `secrets keep`, however we'll use the argument option in the notebook for all commands.\n"
   ]
  },
  {
   "cell_type": "code",
   "execution_count": 4,
   "metadata": {},
   "outputs": [
    {
     "name": "stdout",
     "output_type": "stream",
     "text": [
      "\u001b[31mUsing arguments mode leaves secret keys in your terminal history and accordingly\u001b[0m\n",
      "\u001b[31mit is not recommended.\u001b[0m\n",
      "\u001b[92mSecret remembered!\u001b[0m\n"
     ]
    }
   ],
   "source": [
    "! secrets keep -a --uid example_secret --key 1234"
   ]
  },
  {
   "cell_type": "markdown",
   "metadata": {},
   "source": [
    "You can also do so through the package interface.\n"
   ]
  },
  {
   "cell_type": "code",
   "execution_count": 5,
   "metadata": {},
   "outputs": [],
   "source": [
    "secrets.keep(uid=\"example_2\", key=\"12345678\")"
   ]
  },
  {
   "cell_type": "markdown",
   "metadata": {},
   "source": [
    "View the available secrets through the CLI. (The formatting is only messed up on the website.)\n"
   ]
  },
  {
   "cell_type": "code",
   "execution_count": 6,
   "metadata": {},
   "outputs": [
    {
     "name": "stdout",
     "output_type": "stream",
     "text": [
      "\u001b[3m                Secrets                 \u001b[0m\n",
      "┏━━━━━━━━━━━━━━━━━━━━━━━┳━━━━━━━━━━━━━━┓\n",
      "┃\u001b[1m \u001b[0m\u001b[1mUID                  \u001b[0m\u001b[1m \u001b[0m┃\u001b[1m \u001b[0m\u001b[1mKey         \u001b[0m\u001b[1m \u001b[0m┃\n",
      "┡━━━━━━━━━━━━━━━━━━━━━━━╇━━━━━━━━━━━━━━┩\n",
      "│\u001b[36m \u001b[0m\u001b[36mexample_secret       \u001b[0m\u001b[36m \u001b[0m│\u001b[35m \u001b[0m\u001b[35m1***        \u001b[0m\u001b[35m \u001b[0m│\n",
      "│\u001b[36m \u001b[0m\u001b[36mexample_2            \u001b[0m\u001b[36m \u001b[0m│\u001b[35m \u001b[0m\u001b[35m12******    \u001b[0m\u001b[35m \u001b[0m│\n",
      "└───────────────────────┴──────────────┘\n"
     ]
    }
   ],
   "source": [
    "! secrets list"
   ]
  },
  {
   "cell_type": "markdown",
   "metadata": {},
   "source": [
    "Or through the package\n"
   ]
  },
  {
   "cell_type": "code",
   "execution_count": 7,
   "metadata": {},
   "outputs": [
    {
     "data": {
      "text/plain": [
       "['example_secret', 'example_2']"
      ]
     },
     "execution_count": 7,
     "metadata": {},
     "output_type": "execute_result"
    }
   ],
   "source": [
    "secrets.uids"
   ]
  },
  {
   "cell_type": "markdown",
   "metadata": {},
   "source": [
    "You can get a secret via the CLI either by viewing it with:\n",
    "\n",
    "- `secrets view` -> This will display the secret key in your terminal. By default you will interactively select a secret to view.\n",
    "- `secrets copy` -> This will copy the secret key to your clipboard. By default you will interactively select a secret to copy\n",
    "\n",
    "We can run these in non-interactive mode as follows.\n"
   ]
  },
  {
   "cell_type": "code",
   "execution_count": 8,
   "metadata": {},
   "outputs": [
    {
     "name": "stdout",
     "output_type": "stream",
     "text": [
      "\u001b[36mexample_secret:\u001b[0m \u001b[1;34m1234\u001b[0m\n",
      "\u001b[31mYou should clear your terminal output after viewing secrets like this for \u001b[0m\n",
      "\u001b[31msecurity reasons.\u001b[0m\n"
     ]
    }
   ],
   "source": [
    "! secrets view -a --uid example_secret"
   ]
  },
  {
   "cell_type": "code",
   "execution_count": 9,
   "metadata": {},
   "outputs": [
    {
     "name": "stdout",
     "output_type": "stream",
     "text": [
      "\u001b[92mSecret key copied to clipboard.\u001b[0m\n"
     ]
    }
   ],
   "source": [
    "! secrets copy -a --uid example_secret"
   ]
  },
  {
   "cell_type": "markdown",
   "metadata": {},
   "source": [
    "Clipboard output: 1234\n"
   ]
  },
  {
   "cell_type": "markdown",
   "metadata": {},
   "source": [
    "Or alternatively via the package.\n"
   ]
  },
  {
   "cell_type": "code",
   "execution_count": 10,
   "metadata": {},
   "outputs": [
    {
     "data": {
      "text/plain": [
       "'1234'"
      ]
     },
     "execution_count": 10,
     "metadata": {},
     "output_type": "execute_result"
    }
   ],
   "source": [
    "secrets.get(uid=\"example_secret\")"
   ]
  },
  {
   "cell_type": "code",
   "execution_count": 11,
   "metadata": {},
   "outputs": [
    {
     "data": {
      "text/plain": [
       "'12345678'"
      ]
     },
     "execution_count": 11,
     "metadata": {},
     "output_type": "execute_result"
    }
   ],
   "source": [
    "secrets.get(uid=\"example_2\")"
   ]
  },
  {
   "cell_type": "markdown",
   "metadata": {},
   "source": [
    "Note that the secrets are also added as accessible attributes.\n"
   ]
  },
  {
   "cell_type": "code",
   "execution_count": 12,
   "metadata": {},
   "outputs": [
    {
     "data": {
      "text/plain": [
       "Secret(uid=example_secret)"
      ]
     },
     "execution_count": 12,
     "metadata": {},
     "output_type": "execute_result"
    }
   ],
   "source": [
    "secrets.obj.example_secret"
   ]
  },
  {
   "cell_type": "code",
   "execution_count": 13,
   "metadata": {},
   "outputs": [
    {
     "data": {
      "text/plain": [
       "'1234'"
      ]
     },
     "execution_count": 13,
     "metadata": {},
     "output_type": "execute_result"
    }
   ],
   "source": [
    "secrets.obj.example_secret.key"
   ]
  },
  {
   "cell_type": "markdown",
   "metadata": {},
   "source": [
    "You can forget a secret by running `secrets forget` and selecting the secret UIDs to forget, or by passing the uid as an argument.\n"
   ]
  },
  {
   "cell_type": "code",
   "execution_count": 14,
   "metadata": {},
   "outputs": [
    {
     "name": "stdout",
     "output_type": "stream",
     "text": [
      "\u001b[92mSecret forgotten!\u001b[0m\n"
     ]
    }
   ],
   "source": [
    "! secrets forget -a --uid example_2"
   ]
  },
  {
   "cell_type": "code",
   "execution_count": 15,
   "metadata": {},
   "outputs": [
    {
     "name": "stdout",
     "output_type": "stream",
     "text": [
      "\u001b[3m                Secrets                 \u001b[0m\n",
      "┏━━━━━━━━━━━━━━━━━━━━━━━━━━━┳━━━━━━━━━━┓\n",
      "┃\u001b[1m \u001b[0m\u001b[1mUID                      \u001b[0m\u001b[1m \u001b[0m┃\u001b[1m \u001b[0m\u001b[1mKey     \u001b[0m\u001b[1m \u001b[0m┃\n",
      "┡━━━━━━━━━━━━━━━━━━━━━━━━━━━╇━━━━━━━━━━┩\n",
      "│\u001b[36m \u001b[0m\u001b[36mexample_secret           \u001b[0m\u001b[36m \u001b[0m│\u001b[35m \u001b[0m\u001b[35m1***    \u001b[0m\u001b[35m \u001b[0m│\n",
      "└───────────────────────────┴──────────┘\n"
     ]
    }
   ],
   "source": [
    "! secrets list"
   ]
  },
  {
   "cell_type": "markdown",
   "metadata": {},
   "source": [
    "If we try to forget that secret again, we get a warning.\n"
   ]
  },
  {
   "cell_type": "code",
   "execution_count": 16,
   "metadata": {},
   "outputs": [
    {
     "name": "stdout",
     "output_type": "stream",
     "text": [
      "\u001b[33mCan't seem to find that secret\u001b[0m\u001b[33m...\u001b[0m\u001b[33m Make sure that uid exists. \u001b[0m\u001b[1;33m(\u001b[0m\u001b[33mHint: run \u001b[0m\u001b[33m'secrets\u001b[0m\n",
      "\u001b[33mlist'\u001b[0m\u001b[33m to check\u001b[0m\u001b[1;33m)\u001b[0m\u001b[33m.\u001b[0m\n"
     ]
    }
   ],
   "source": [
    "! secrets forget -a --uid example_2"
   ]
  },
  {
   "cell_type": "markdown",
   "metadata": {},
   "source": [
    "More features will be added in the near future.\n"
   ]
  }
 ],
 "metadata": {
  "kernelspec": {
   "display_name": "ssm",
   "language": "python",
   "name": "python3"
  },
  "language_info": {
   "codemirror_mode": {
    "name": "ipython",
    "version": 3
   },
   "file_extension": ".py",
   "mimetype": "text/x-python",
   "name": "python",
   "nbconvert_exporter": "python",
   "pygments_lexer": "ipython3",
   "version": "3.11.5"
  }
 },
 "nbformat": 4,
 "nbformat_minor": 2
}
